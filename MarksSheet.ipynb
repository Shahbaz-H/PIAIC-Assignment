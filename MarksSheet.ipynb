{
 "cells": [
  {
   "cell_type": "code",
   "execution_count": 19,
   "metadata": {},
   "outputs": [
    {
     "name": "stdout",
     "output_type": "stream",
     "text": [
      "Enter marks obtained in 5 subjects and total marks of all subjects: \n",
      "Please Enter marks in 1st subject: 95\n",
      "Please Enter marks in 2nd subject: 88\n",
      "Please Enter marks in 3rd subject: 94\n",
      "Please Enter marks in 4th subject: 92\n",
      "Please Enter marks in 5th subject: 84\n",
      "Please Enter total marks: 500\n"
     ]
    }
   ],
   "source": [
    "print(\"Enter marks obtained in 5 subjects and total marks of all subjects: \");\n",
    "mark1 = int(input('Please Enter marks in 1st subject: '));\n",
    "mark2 = int(input('Please Enter marks in 2nd subject: '));\n",
    "mark3 = int(input('Please Enter marks in 3rd subject: '));\n",
    "mark4 = int(input('Please Enter marks in 4th subject: '));\n",
    "mark5 = int(input('Please Enter marks in 5th subject: '));\n",
    "total_marks =  int(input('Please Enter total marks: '));\n",
    "sum = mark1 + mark2 + mark3 + mark4 + mark5;\n",
    "average = sum/total_marks * 100;\n",
    "    \n",
    "file = open('Marks_sheet.txt', 'w')\n",
    "file.write('Marks in 1st subject: ' + str(mark1) +'\\n' + \n",
    "               'Marks in 2nd subject: ' + str(mark2) + '\\n' + \n",
    "               'Marks in 3rd subject: ' + str(mark3) + '\\n' + \n",
    "               'Marks in 4th subject: ' + str(mark4) + '\\n' + \n",
    "               'Marks in 5th subject: ' + str(mark5) + '\\n' + \n",
    "               'Total marks: ' +  str(total_marks) + '\\n' )\n",
    "if(average>=91 and average<=100):\n",
    "    file.write(\"Your Grade is A+\");\n",
    "elif(average>=81 and average<=90):\n",
    "    file.write(\"Your Grade is A\");\n",
    "elif(average>=71 and average<=80):\n",
    "    file.write(\"Your Grade is B+\");\n",
    "elif(average>=61 and average<=70):\n",
    "    file.write(\"Your Grade is B\");\n",
    "elif(average>=51 and average<=60):\n",
    "    file.write(\"Your Grade is C+\");\n",
    "elif(average>=41 and average<=50):\n",
    "    file.write(\"Your Grade is C\");\n",
    "else:\n",
    "    file.write(\"Your Grade is F\");\n",
    "file.close()"
   ]
  },
  {
   "cell_type": "code",
   "execution_count": null,
   "metadata": {},
   "outputs": [],
   "source": []
  },
  {
   "cell_type": "code",
   "execution_count": null,
   "metadata": {
    "collapsed": true
   },
   "outputs": [],
   "source": []
  }
 ],
 "metadata": {
  "kernelspec": {
   "display_name": "Python 3",
   "language": "python",
   "name": "python3"
  },
  "language_info": {
   "codemirror_mode": {
    "name": "ipython",
    "version": 3
   },
   "file_extension": ".py",
   "mimetype": "text/x-python",
   "name": "python",
   "nbconvert_exporter": "python",
   "pygments_lexer": "ipython3",
   "version": "3.6.1"
  }
 },
 "nbformat": 4,
 "nbformat_minor": 2
}
